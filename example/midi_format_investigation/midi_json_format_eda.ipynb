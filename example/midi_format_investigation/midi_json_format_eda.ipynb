{
 "cells": [
  {
   "cell_type": "markdown",
   "id": "e0707748",
   "metadata": {},
   "source": [
    "# Exploring Midi Data Structure Produced by pianotrans ML Transcription"
   ]
  },
  {
   "cell_type": "code",
   "execution_count": 1,
   "id": "62198728",
   "metadata": {},
   "outputs": [],
   "source": [
    "import json\n",
    "from functools import reduce\n",
    "import os\n",
    "from matplotlib import pyplot as plt\n",
    "import pandas as pd"
   ]
  },
  {
   "cell_type": "markdown",
   "id": "0bed7fa4",
   "metadata": {},
   "source": [
    "# Midi Top Level Fields"
   ]
  },
  {
   "cell_type": "code",
   "execution_count": 2,
   "id": "6a5bc81f",
   "metadata": {},
   "outputs": [],
   "source": [
    "# look into saber's edge json, produced by midi-parser-js (https://github.com/colxi/midi-parser-js)\n",
    "current_folder = globals()['_dh'][0]\n",
    "\n",
    "with open(os.path.join(current_folder, 'sabers_edge.json')) as f:\n",
    "    data = json.load(f)"
   ]
  },
  {
   "cell_type": "code",
   "execution_count": 3,
   "id": "c0359756",
   "metadata": {},
   "outputs": [
    {
     "name": "stdout",
     "output_type": "stream",
     "text": [
      "midi json contains the following top level keys:\n",
      "formatType, tracks, track, timeDivision, "
     ]
    }
   ],
   "source": [
    "# get top level keys\n",
    "print(\"midi json contains the following top level keys:\")\n",
    "for key, value in data.items():\n",
    "    print(key, end=', ')"
   ]
  },
  {
   "cell_type": "code",
   "execution_count": 4,
   "id": "160b5b5f",
   "metadata": {},
   "outputs": [
    {
     "name": "stdout",
     "output_type": "stream",
     "text": [
      "time division: 384\n"
     ]
    }
   ],
   "source": [
    "# time division relates deltaTime field in data to real time\n",
    "print(\"time division:\", data[\"timeDivision\"])"
   ]
  },
  {
   "cell_type": "code",
   "execution_count": 5,
   "id": "5c1fa214",
   "metadata": {},
   "outputs": [
    {
     "name": "stdout",
     "output_type": "stream",
     "text": [
      "sum of track -> deltaTime: 117913\n"
     ]
    }
   ],
   "source": [
    "# get sum of deltaTime from midi data, track 1 (which is the longest track, track 0 has only 3 data)\n",
    "def sum_delta_time(cur_sum, note):\n",
    "    return cur_sum + int(note[\"deltaTime\"])\n",
    "\n",
    "track = data['track'][-1]['event']\n",
    "sum_of_delta_time = reduce(sum_delta_time, track, 0)\n",
    "print(\"sum of track -> deltaTime:\", sum_of_delta_time)"
   ]
  },
  {
   "cell_type": "markdown",
   "id": "dbce6d41",
   "metadata": {},
   "source": [
    "### Relating timeDivision and deltaTime to real time:"
   ]
  },
  {
   "cell_type": "markdown",
   "id": "73a8dc7e",
   "metadata": {},
   "source": [
    "Midi or atleast pianotrans transcription uses base 120 bpm (2 beats/second).\n",
    "\n",
    "Taking into account timeDivision which is 384 and 117913 time ticks total, the total length of saber's edge is 117913/(384 * 2) = 153.53 seconds\n",
    "\n",
    "The original length of saber's edge video/audio is 2min36sec, which accounting for dead time at the start and end does indeed match this information.\n",
    "\n",
    "Therefore:\n",
    "Can perform cumulative summation as well as division by timeDivision*2 to get current timestamp"
   ]
  },
  {
   "cell_type": "markdown",
   "id": "c1cb6e40",
   "metadata": {},
   "source": [
    "# Midi Data Fields"
   ]
  },
  {
   "cell_type": "code",
   "execution_count": 6,
   "id": "c7546323",
   "metadata": {},
   "outputs": [
    {
     "data": {
      "text/html": [
       "<div>\n",
       "<style scoped>\n",
       "    .dataframe tbody tr th:only-of-type {\n",
       "        vertical-align: middle;\n",
       "    }\n",
       "\n",
       "    .dataframe tbody tr th {\n",
       "        vertical-align: top;\n",
       "    }\n",
       "\n",
       "    .dataframe thead th {\n",
       "        text-align: right;\n",
       "    }\n",
       "</style>\n",
       "<table border=\"1\" class=\"dataframe\">\n",
       "  <thead>\n",
       "    <tr style=\"text-align: right;\">\n",
       "      <th></th>\n",
       "      <th>deltaTime</th>\n",
       "      <th>type</th>\n",
       "      <th>channel</th>\n",
       "      <th>pitch</th>\n",
       "      <th>velocity</th>\n",
       "    </tr>\n",
       "  </thead>\n",
       "  <tbody>\n",
       "    <tr>\n",
       "      <th>0</th>\n",
       "      <td>2511</td>\n",
       "      <td>9</td>\n",
       "      <td>0</td>\n",
       "      <td>59</td>\n",
       "      <td>75</td>\n",
       "    </tr>\n",
       "    <tr>\n",
       "      <th>1</th>\n",
       "      <td>11</td>\n",
       "      <td>9</td>\n",
       "      <td>0</td>\n",
       "      <td>41</td>\n",
       "      <td>48</td>\n",
       "    </tr>\n",
       "    <tr>\n",
       "      <th>2</th>\n",
       "      <td>1</td>\n",
       "      <td>9</td>\n",
       "      <td>0</td>\n",
       "      <td>29</td>\n",
       "      <td>54</td>\n",
       "    </tr>\n",
       "    <tr>\n",
       "      <th>3</th>\n",
       "      <td>9</td>\n",
       "      <td>9</td>\n",
       "      <td>0</td>\n",
       "      <td>48</td>\n",
       "      <td>54</td>\n",
       "    </tr>\n",
       "    <tr>\n",
       "      <th>4</th>\n",
       "      <td>2</td>\n",
       "      <td>11</td>\n",
       "      <td>0</td>\n",
       "      <td>64</td>\n",
       "      <td>127</td>\n",
       "    </tr>\n",
       "  </tbody>\n",
       "</table>\n",
       "</div>"
      ],
      "text/plain": [
       "   deltaTime  type  channel  pitch  velocity\n",
       "0       2511     9        0     59        75\n",
       "1         11     9        0     41        48\n",
       "2          1     9        0     29        54\n",
       "3          9     9        0     48        54\n",
       "4          2    11        0     64       127"
      ]
     },
     "execution_count": 6,
     "metadata": {},
     "output_type": "execute_result"
    }
   ],
   "source": [
    "# convert to format that can be parsed into dataframe\n",
    "data_for_df = [{\"deltaTime\": data[\"deltaTime\"],\n",
    "                \"type\": data[\"type\"],\n",
    "                \"channel\": data[\"channel\"],\n",
    "                \"pitch\": data[\"data\"][0],\n",
    "                \"velocity\": data[\"data\"][1]}\n",
    "               for data in track[:-1]] # ignore last data which has no data but instead has MetaType field\n",
    "\n",
    "sabers_edge_df = pd.DataFrame(data_for_df)\n",
    "sabers_edge_df.head(5)"
   ]
  },
  {
   "cell_type": "code",
   "execution_count": 7,
   "id": "7783ed73",
   "metadata": {},
   "outputs": [
    {
     "data": {
      "text/plain": [
       "4508"
      ]
     },
     "execution_count": 7,
     "metadata": {},
     "output_type": "execute_result"
    }
   ],
   "source": [
    "# get number of data, is this number of notes??\n",
    "len(sabers_edge_df)"
   ]
  },
  {
   "cell_type": "code",
   "execution_count": 8,
   "id": "2a6762e8",
   "metadata": {},
   "outputs": [
    {
     "data": {
      "image/png": "[encoded data removed]",
      "text/plain": [
       "<Figure size 720x432 with 1 Axes>"
      ]
     },
     "metadata": {
      "needs_background": "light"
     },
     "output_type": "display_data"
    }
   ],
   "source": [
    "# get distribution of deltaTime, plot log of count since many deltaTime are close to 0\n",
    "fig = plt.figure(figsize=(10,6))\n",
    "plt.hist(sabers_edge_df[\"deltaTime\"], bins = 100, log=True)\n",
    "plt.title(\"Distribution of deltaTime\", fontsize=26)\n",
    "plt.xlabel('deltaTime (midi ticks)', fontsize=18)\n",
    "plt.ylabel('log of count', fontsize=18)\n",
    "plt.show()"
   ]
  },
  {
   "cell_type": "code",
   "execution_count": 9,
   "id": "c0e2f8a6",
   "metadata": {},
   "outputs": [
    {
     "data": {
      "text/plain": [
       "9     4284\n",
       "11     224\n",
       "Name: type, dtype: int64"
      ]
     },
     "execution_count": 9,
     "metadata": {},
     "output_type": "execute_result"
    }
   ],
   "source": [
    "# look into distribution of type field\n",
    "sabers_edge_df.type.value_counts()"
   ]
  },
  {
   "cell_type": "code",
   "execution_count": 10,
   "id": "6d6fc5d6",
   "metadata": {},
   "outputs": [
    {
     "data": {
      "text/plain": [
       "0      112\n",
       "127    112\n",
       "Name: velocity, dtype: int64"
      ]
     },
     "execution_count": 10,
     "metadata": {},
     "output_type": "execute_result"
    }
   ],
   "source": [
    "# type 11 events seem to have either velocity 127 or velocity 0, seems binary, almost like sustain pedal\n",
    "sabers_edge_df.loc[sabers_edge_df['type'] == 11].velocity.value_counts()"
   ]
  },
  {
   "cell_type": "markdown",
   "id": "de5434f9",
   "metadata": {},
   "source": [
    "### Relating type fields to piano:"
   ]
  },
  {
   "cell_type": "markdown",
   "id": "28e4faeb",
   "metadata": {},
   "source": [
    "According to https://www.mixagesoftware.com/en/midikit/help/HTML/midi_events.html\n",
    "\n",
    "9 is a 'Note On Event' and 11 is a 'Controller Event'.\n",
    "Curiously 10, the 'Note Off Event' is not used, investigation further I came across forum posts such as this:\n",
    "https://forum.cockos.com/showthread.php?t=232615#:~:text=A%20MIDI%20Note%20On%20with,part%20of%20the%20MIDI%20Standard \n",
    "\n",
    "They discuss how sometimes rather then using note off events, a note on event with velocity=0 can also encode a note off event. Therefore you will expect an equal amount of data with type=9 and velocity=0 as the amount of data with type=0 and velocity=[1,127]\n",
    "\n",
    "Controller event seems to indicate sustain pedal events, which is something the original paper described they perform inference on: https://arxiv.org/abs/2010.01815\n",
    "\n",
    "In summary:\n",
    "Type 9 events have velocity 1-127 indicating onset, 0 indicating offset.\n",
    "Type 11 events have velocity 127 indicating onset, 0 indicating offset."
   ]
  },
  {
   "cell_type": "code",
   "execution_count": 11,
   "id": "738a0b20",
   "metadata": {
    "scrolled": false
   },
   "outputs": [
    {
     "data": {
      "image/png": "[encoded data removed]",
      "text/plain": [
       "<Figure size 720x432 with 1 Axes>"
      ]
     },
     "metadata": {
      "needs_background": "light"
     },
     "output_type": "display_data"
    }
   ],
   "source": [
    "# get distribution of channel\n",
    "fig = plt.figure(figsize=(10,6))\n",
    "plt.hist(sabers_edge_df[\"channel\"], bins = 100)\n",
    "plt.title(\"Distribution of channel\", fontsize=26)\n",
    "plt.xlabel('channel', fontsize=18)\n",
    "plt.ylabel('count', fontsize=18)\n",
    "plt.show()"
   ]
  },
  {
   "cell_type": "markdown",
   "id": "a727696c",
   "metadata": {},
   "source": [
    "Only 1 channel makes sense, there is only a single piano in the midi track"
   ]
  },
  {
   "cell_type": "code",
   "execution_count": 12,
   "id": "0b2bffd7",
   "metadata": {},
   "outputs": [
    {
     "data": {
      "image/png": "[encoded data removed]",
      "text/plain": [
       "<Figure size 720x432 with 1 Axes>"
      ]
     },
     "metadata": {
      "needs_background": "light"
     },
     "output_type": "display_data"
    }
   ],
   "source": [
    "# get distribution of pitch\n",
    "fig = plt.figure(figsize=(10,6))\n",
    "plt.hist(sabers_edge_df[\"pitch\"], bins = 100)\n",
    "plt.title(\"Distribution of pitch\", fontsize=26)\n",
    "plt.xlabel('pitch', fontsize=18)\n",
    "plt.ylabel('count', fontsize=18)\n",
    "plt.show()"
   ]
  },
  {
   "cell_type": "markdown",
   "id": "f43b31c1",
   "metadata": {},
   "source": [
    "Pitch of keys according to: https://inspiredacoustics.com/en/MIDI_note_numbers_and_center_frequencies\n",
    "Should start around 20 for A0 (lowest key on the piano), which agrees with what's shown here."
   ]
  },
  {
   "cell_type": "code",
   "execution_count": 13,
   "id": "769da187",
   "metadata": {},
   "outputs": [
    {
     "data": {
      "image/png": "[encoded data removed]",
      "text/plain": [
       "<Figure size 720x432 with 1 Axes>"
      ]
     },
     "metadata": {
      "needs_background": "light"
     },
     "output_type": "display_data"
    }
   ],
   "source": [
    "# get distribution of velocity\n",
    "fig = plt.figure(figsize=(10,6))\n",
    "plt.hist(sabers_edge_df[\"velocity\"], bins = 100)\n",
    "plt.title(\"Distribution of velocity\", fontsize=26)\n",
    "plt.xlabel('velocity', fontsize=18)\n",
    "plt.ylabel('count', fontsize=18)\n",
    "plt.show()"
   ]
  },
  {
   "cell_type": "code",
   "execution_count": 14,
   "id": "d56b35b7",
   "metadata": {},
   "outputs": [
    {
     "data": {
      "text/plain": [
       "2254"
      ]
     },
     "execution_count": 14,
     "metadata": {},
     "output_type": "execute_result"
    }
   ],
   "source": [
    "# how many are 0? it looks like half have velocity 0\n",
    "len(sabers_edge_df.loc[sabers_edge_df['velocity'] == 0])"
   ]
  },
  {
   "cell_type": "code",
   "execution_count": 15,
   "id": "32834048",
   "metadata": {},
   "outputs": [
    {
     "data": {
      "text/plain": [
       "4508"
      ]
     },
     "execution_count": 15,
     "metadata": {},
     "output_type": "execute_result"
    }
   ],
   "source": [
    "len(sabers_edge_df)"
   ]
  },
  {
   "cell_type": "markdown",
   "id": "f5fca0eb",
   "metadata": {},
   "source": [
    "This agrees with what's expected based on earlier. Great!"
   ]
  }
 ],
 "metadata": {
  "kernelspec": {
   "display_name": "Python 3",
   "language": "python",
   "name": "python3"
  },
  "language_info": {
   "codemirror_mode": {
    "name": "ipython",
    "version": 3
   },
   "file_extension": ".py",
   "mimetype": "text/x-python",
   "name": "python",
   "nbconvert_exporter": "python",
   "pygments_lexer": "ipython3",
   "version": "3.8.8"
  }
 },
 "nbformat": 4,
 "nbformat_minor": 5
}
